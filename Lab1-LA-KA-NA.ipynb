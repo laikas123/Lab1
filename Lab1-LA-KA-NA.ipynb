{
 "cells": [
  {
   "cell_type": "markdown",
   "metadata": {},
   "source": [
    "# Lab 1 Report\n",
    "Authors: Logan Aikas, Kevin I Alfaro, Nasser Alsubaie"
   ]
  },
  {
   "cell_type": "code",
   "execution_count": 2,
   "metadata": {},
   "outputs": [],
   "source": [
    "#import cell\n",
    "\n",
    "# Test the audio read and play functions\n",
    "import simpleaudio as sa\n",
    "from scipy.io import wavfile as wav\n",
    "import numpy as np\n",
    "import matplotlib\n",
    "import matplotlib.pyplot as plt"
   ]
  },
  {
   "cell_type": "code",
   "execution_count": 3,
   "metadata": {},
   "outputs": [
    {
     "name": "stdout",
     "output_type": "stream",
     "text": [
      "Hello Maxim\n"
     ]
    }
   ],
   "source": [
    "print(\"Hello Maxim\")"
   ]
  },
  {
   "cell_type": "code",
   "execution_count": 4,
   "metadata": {},
   "outputs": [],
   "source": [
    "wav_obj = sa.WaveObject.from_wave_file('train32.wav')\n",
    "play_obj = wav_obj.play()\n",
    "play_obj.wait_done()"
   ]
  },
  {
   "cell_type": "markdown",
   "metadata": {},
   "source": [
    "### Discussion\n",
    "\n",
    "This lab involves getting familiar with Python, Jupyter notebook, and the basics of working with audio signals in these environments.\n"
   ]
  },
  {
   "cell_type": "markdown",
   "metadata": {},
   "source": [
    "## Assignment 1 -- Creating and Manipulating Arrays "
   ]
  },
  {
   "cell_type": "code",
   "execution_count": 5,
   "metadata": {},
   "outputs": [
    {
     "name": "stdout",
     "output_type": "stream",
     "text": [
      "6\n",
      "[6 2]\n",
      "3\n",
      "[2. 2. 2. 2. 2.]\n",
      "[-2 -1  0  1  2]\n",
      "[0. 1. 2. 3. 4.]\n",
      "[ 2.  2.  2.  2.  2. -2. -1.  0.  1.  2.]\n"
     ]
    }
   ],
   "source": [
    "# Part A \n",
    "\n",
    "y1 = np.array([4, 6, 2])\n",
    "\n",
    "\n",
    "# Part B\n",
    "\n",
    "ca = y1[1]\n",
    "\n",
    "cb = np.array([y1[1], y1[2]])\n",
    "\n",
    "d = len(y1)\n",
    "\n",
    "print(ca)\n",
    "print(cb)\n",
    "print(d)\n",
    "\n",
    "# Part C\n",
    "\n",
    "x1 = np.ones(5)*2\n",
    "\n",
    "x2 = np.arange(-2,3,1)\n",
    "\n",
    "print(x1)\n",
    "print(x2)\n",
    "\n",
    "#Part D\n",
    "\n",
    "arrp = np.add(x1, x2)\n",
    "\n",
    "arrc = np.concatenate((x1, x2), axis=None)\n",
    "\n",
    "print(arrp)\n",
    "\n",
    "print(arrc)\n"
   ]
  },
  {
   "cell_type": "markdown",
   "metadata": {},
   "source": [
    "###  Discussion\n",
    "\n",
    "Addition of two arrays creates a new array of identical length, where at each index of the new array, it takes on the value of the sum of the values present at the same index in the two arrays being added. For two arrays to be able to be added to each other, they need to have the same shape. For instance a 2D array with 3 rows of 3 columns can only be added to an array that is also 3 rows by 3 columns. \n",
    "\n",
    "Concatenation of two arrays appends the values of one array to the end of the other array. If concatenation is called with axis=None then both arrays are flattened to 1D despite whatever shape they had and in this case there are no constraints on what dimensions the original arrays were. If the axis is set to axis=0 then numpy is concatenating a new row. So for instance if you have a 2D array where each row is 3 columns long, and you have another 2D array and you want to concatenate it with axis = 0. The only way the array you want to concatenate can be valid is if the 2D array has rows that are also 3 columns long, but any number of rows are fine as long as the columns add match. Lastly, if the axis is set to axis = 1 this is appending a column to each row. So if you have a 2D array with 6 rows and you want to concatenate another 2D array then you must provide a 2D array that has 6 rows no more no less, the amount of columns per row however can vary. "
   ]
  },
  {
   "cell_type": "markdown",
   "metadata": {},
   "source": [
    "## Assignment 2 -- Amplitude Operations on Signals "
   ]
  },
  {
   "cell_type": "code",
   "execution_count": 6,
   "metadata": {},
   "outputs": [
    {
     "name": "stdout",
     "output_type": "stream",
     "text": [
      "-7.0\n",
      "[ 0.   -0.25 -1.5  -3.75]\n",
      "\n",
      "Checking all values \n",
      "\n",
      "x = [0.   0.25 0.5  0.75 1.   1.25 1.5 ] \n",
      "\n",
      "y = [0.   0.25 1.   2.25 4.   6.25 9.  ] \n",
      "\n",
      "z = [  0.    -0.25  -1.5   -3.75  -7.   -11.25 -16.5 ] \n",
      "\n",
      "w1 = -7.0 \n",
      "\n",
      "w2 = [ 0.   -0.25 -1.5  -3.75] \n",
      "\n"
     ]
    }
   ],
   "source": [
    "# Part A\n",
    "\n",
    "t = np.arange(0, 3.5, 0.5)\n",
    "\n",
    "x = 0.5*t\n",
    "\n",
    "y = t**2\n",
    "\n",
    "# Part B\n",
    "\n",
    "z = x - 2*y\n",
    "\n",
    "# Part C\n",
    "\n",
    "w1 = z[4]\n",
    "\n",
    "print(w1)\n",
    "\n",
    "# Part D\n",
    "\n",
    "w2 = z[0:4]\n",
    "\n",
    "print(w2)\n",
    "\n",
    "\n",
    "#Check All\n",
    "print()\n",
    "print(\"Checking all values \\n\")\n",
    "print(\"x =\", x, \"\\n\")\n",
    "print(\"y =\", y, \"\\n\")\n",
    "print(\"z =\", z, \"\\n\")\n",
    "print(\"w1 =\", w1, \"\\n\")\n",
    "print(\"w2 =\", w2,  \"\\n\")\n"
   ]
  },
  {
   "cell_type": "markdown",
   "metadata": {},
   "source": [
    "### Discussion\n",
    "\n",
    "Had we used fs = 1 rather than fs = 2 then we would have sampled half as often. The sample period would change from 0.5s to 1s. Our array t would only have 4 samples instead of 7, there can't be a half sample hence why it's not 3.5 samples. Specifically the t array would become:\n",
    "\n",
    "[0. 1. 2. 3.] for fs = 1\n",
    "\n",
    "The x array would similarly have only 4 values which would be:\n",
    "\n",
    "[0. 0.5 1. 1.5] for fs = 1\n",
    "\n",
    "The y array would have only 4 values and become:\n",
    "\n",
    "[0. 1. 4. 9.] for fs = 1\n",
    "\n",
    "The z array would only have 4 values and become:\n",
    "\n",
    "[0. -1.5 -7. -16.5] fs = 1\n",
    "\n",
    "The w1 would actually cause an error because z only has indices 0-3\n",
    "\n",
    "w1 = z[4]\n",
    "IndexError: index 4 is out of bounds for axis 0 with size 4\n",
    "\n",
    "The w2 array would actually just be a copy of the z array since it's indexing from 0-3 which are the indices of z. So w2 would be:\n",
    "\n",
    "[0. -1.5 -7. -16.5] for fs = 1\n",
    "\n",
    "To summarize, had we used fs = 1 instead of fs = 2 then we would have less sample points, which then leads to all functions based on sample points requiring less values. It's good to note however the new data is also still present in the old data. For instance below are the z arrays for fs = 1 and fs = 2 respectively:\n",
    "\n",
    "[0. -0.25 -1.5 -3.75 -7. -11.25 -16.5 ] fs = 2\n",
    "\n",
    "[0. -1.5 -7. -16.5] fs = 1\n",
    "\n",
    "Note that for each array the values 0, -1.5, -7, and -16.5 are present. So really all that has happened by changing the sampling frequency is the amount of data points each function will have, but the data points will still be the same values when corresponding to the same times."
   ]
  },
  {
   "cell_type": "markdown",
   "metadata": {},
   "source": [
    "## Assignment 3: Working with Sound Files"
   ]
  },
  {
   "cell_type": "code",
   "execution_count": 7,
   "metadata": {},
   "outputs": [
    {
     "name": "stdout",
     "output_type": "stream",
     "text": [
      "Train whistle has sampling frequency: 32000 Number of samples 50313 type int16 and array shape (50313,)\n",
      "Tuba has sampling frequency: 11025 Number of samples 109708 type int16 and array shape (109708, 2)\n",
      "The train is  1.57228125 s long and the tuba is 9.950839002267573 s long\n",
      "17334\n",
      "(109708, 2)\n"
     ]
    }
   ],
   "source": [
    "# Part A\n",
    "\n",
    "fs1, y1 = wav.read('train32.wav')\n",
    "\n",
    "print(\"Train whistle has sampling frequency:\", fs1, \"Number of samples\", len(y1), \"type\", y1.dtype, \"and array shape\", np.shape(y1))\n",
    "\n",
    "#the shape is (50313,) which means there is only one channel with 50313 samples\n",
    "\n",
    "fs2, y2 = wav.read('tuba11.wav')\n",
    "\n",
    "print(\"Tuba has sampling frequency:\", fs2, \"Number of samples\", len(y2), \"type\", y2.dtype, \"and array shape\", np.shape(y2))\n",
    "#the shape is (109708, 2) so there is 2 channels each with 109708 samples\n",
    "\n",
    "\n",
    "# Part B\n",
    "\n",
    "# first play each audio file normally using simpleaudio \n",
    "\n",
    "wav_obj = sa.WaveObject.from_wave_file('train32.wav')\n",
    "play_obj = wav_obj.play()\n",
    "play_obj.wait_done()\n",
    "\n",
    "wav_obj = sa.WaveObject.from_wave_file('tuba11.wav')\n",
    "play_obj = wav_obj.play()\n",
    "play_obj.wait_done()\n",
    "\n",
    "#then create new audio files with the sampling frequencies swapped\n",
    "\n",
    "#first create \"TubaSwapped.wav\" which has the sampling frequency of the train\n",
    "\n",
    "outfile = 'TubaSwapped.wav'\n",
    "wav.write(outfile, fs1, y2.astype('int16'))\n",
    "\n",
    "#play TubaSwapped.wav using simple audio\n",
    "\n",
    "wav_obj = sa.WaveObject.from_wave_file('TubaSwapped.wav')\n",
    "play_obj = wav_obj.play()\n",
    "play_obj.wait_done()\n",
    "\n",
    "\n",
    "#then create \"TrainSwapped.wav\" which has the sampling frequency of the tuba\n",
    "\n",
    "outfile2 = 'TrainSwapped.wav'\n",
    "wav.write(outfile2, fs2, y1.astype('int16'))\n",
    "\n",
    "#play TrainSwapped.wav using simple audio\n",
    "\n",
    "\n",
    "wav_obj = sa.WaveObject.from_wave_file('TrainSwapped.wav')\n",
    "play_obj = wav_obj.play()\n",
    "play_obj.wait_done()\n",
    "\n",
    "# Part C\n",
    "\n",
    "#to figure out how long each file is take the samples in the file and divide by the sampling frequency\n",
    "\n",
    "#for the train \n",
    "length_train = len(y1)/fs1\n",
    "\n",
    "#for the tuba\n",
    "length_tuba = len(y2)/fs2\n",
    "\n",
    "print(\"The train is \", length_train, \"s long and the tuba is\", length_tuba, \"s long\")\n",
    "\n",
    "#so the tuba is longer\n",
    "\n",
    "#to get a section of the tuba that is as long as the train multiply the length of the train\n",
    "#by the sample frequency of the \n",
    "\n",
    "#NOTE use int() to round the samples needed to a whole number\n",
    "\n",
    "samples_of_tuba_needed = int(length_train*fs2)\n",
    "\n",
    "print(samples_of_tuba_needed)\n",
    "\n",
    "#index the data for the samples to match\n",
    "\n",
    "print\n",
    "print(np.shape(y2))\n",
    "\n",
    "y3 = y2[0:samples_of_tuba_needed]\n",
    "\n",
    "\n",
    "\n",
    "y4 = y3[:,0]+y1[0:samples_of_tuba_needed]\n",
    "\n",
    "outfile3 = \"y4.wav\"\n",
    "wav.write(outfile3, fs1, y4.astype('int16'))\n",
    "\n",
    "wav_obj = sa.WaveObject.from_wave_file('y4.wav')\n",
    "play_obj = wav_obj.play()\n",
    "play_obj.wait_done()\n",
    "\n",
    "\n",
    "\n",
    "# Part D\n",
    "\n",
    "# create a 4-sec pause\n",
    "pause = np.zeros(int(4*fs1)) \n",
    "\n",
    "y5 = np.concatenate([y1, pause, y2[:, 0]]) \n",
    "outfile4 = 'y5.wav'\n",
    "wav.write(outfile4, fs1, y5.astype('int16')) \n",
    "\n",
    "wav_obj = sa.WaveObject.from_wave_file('y5.wav')\n",
    "play_obj = wav_obj.play()\n",
    "play_obj.wait_done()"
   ]
  },
  {
   "cell_type": "markdown",
   "metadata": {},
   "source": [
    "### Discussion: \n",
    "\n",
    "Because different sampling frequencies are used this causes the pitch and speed of the audio to change. Because the tuba has a much higher sampling frequency than the train audio, applying the tuba sampling frequency to the train audio means more data points are sampled than previously, this causes the audio to become stretched out and lower pitched. Conversely with the lower sampling frequency of the train being applied to the tuba this means the tuba audio is sampled less frequently than originally which results in a sped up audio that is of higher pitch.\n",
    "\n",
    "Because the train sound is mono and the tuba sound is stereo this impacts both parts C and D. For part C only one channel of the tuba could be added with the train sample of equal length. This is because numpy requires to arrays being added to be of the same shape. So essentially you choose one of the two channels to discard from the tuba audio when adding the two. I suppose alternatively you could create a 2D array with two copies of the train audio to make it stereo and then you wouldn't lose a channel from the tuba audio. For part D again the effect is the same, adding a mono and stereo signal requires you to lose one of the channels from the stereo audio to ensure numpy can add the two arrays. And again alternatively it could be possible to double up the mono audio into a stereo file and then you wouldn't lose any of the stereo channels."
   ]
  },
  {
   "cell_type": "markdown",
   "metadata": {},
   "source": [
    "## Assignment 4: Plotting Comparisons"
   ]
  },
  {
   "cell_type": "code",
   "execution_count": 14,
   "metadata": {},
   "outputs": [
    {
     "data": {
      "image/png": "[encoded data removed]",
      "text/plain": [
       "<Figure size 432x288 with 1 Axes>"
      ]
     },
     "metadata": {
      "needs_background": "light"
     },
     "output_type": "display_data"
    }
   ],
   "source": [
    "# Part A \n",
    "t = np.arange(-2,4, .2)\n",
    "w = np.absolute(t)\n",
    "x = 2 - t\n",
    "y = -0.5*(t**2)\n",
    "\n",
    "\n",
    "# Part B\n",
    "fig1=plt.figure(1)\n",
    "\n",
    "plt.plot(t, w, label='w(t) = |t|')\n",
    "plt.plot(t,x,label='x(t) = 2 - t')\n",
    "plt.plot(t,y,label='y(t) = -0.5(t^2)')\n",
    "plt.xlabel('time(s)')\n",
    "plt.suptitle(\"Comparison plot\")\n",
    "plt.legend()\n",
    "plt.show()\n"
   ]
  },
  {
   "cell_type": "markdown",
   "metadata": {},
   "source": [
    "### Discussion\n",
    "\n",
    "To add varied line types to help someone who is colorblind all that you need to do is add the third parameter to the 'plt.plot' commands. The first two arguments are the independent and dependent variables respectively. The optional third argument specifies the line type used.\n",
    "\n",
    "Some examples of how this could be done for w(t) above are:\n",
    "\n",
    "plt.plot(t, w, '-',label='w(t) = |t|') which plots w(t) as a solid line\n",
    "\n",
    "plt.plot(t, w, '--',label='w(t) = |t|') which plots w(t) as a dashed line\n",
    "\n",
    "plt.plot(t,w, ':', label='w(t) = |t|') which plots w(t) as a dotted line\n",
    "\n"
   ]
  },
  {
   "cell_type": "markdown",
   "metadata": {},
   "source": [
    "## Assignment 5: Plotting Sound Filesin Subplots"
   ]
  },
  {
   "cell_type": "code",
   "execution_count": 9,
   "metadata": {},
   "outputs": [
    {
     "name": "stdout",
     "output_type": "stream",
     "text": [
      "22554\n",
      "(50313,)\n",
      "(109708,)\n"
     ]
    },
    {
     "data": {
      "text/plain": [
       "(-40000.0, 40000.0)"
      ]
     },
     "execution_count": 9,
     "metadata": {},
     "output_type": "execute_result"
    },
    {
     "data": {
      "image/png": "[encoded data removed]",
      "text/plain": [
       "<Figure size 432x288 with 2 Axes>"
      ]
     },
     "metadata": {
      "needs_background": "light"
     },
     "output_type": "display_data"
    }
   ],
   "source": [
    "#Part A\n",
    "fs1, y1 = wav.read('train32.wav')\n",
    "\n",
    "fs2, y2 = wav.read('tuba11.wav')\n",
    "\n",
    "\n",
    "#for the train \n",
    "length_train = len(y1)/fs1\n",
    "\n",
    "#for the tuba\n",
    "length_tuba = len(y2)/fs2\n",
    "\n",
    "print(np.max(y2))\n",
    "\n",
    "t1 = np.arange(0, len(y1), 1)\n",
    "t1 = (t1/fs1)*1000\n",
    "print(np.shape(t1))\n",
    "t2 = np.arange(0, len(y2), 1)\n",
    "t2 = (t2/fs2)*1000\n",
    "print(np.shape(t2))\n",
    "\n",
    "#Part B\n",
    "\n",
    "\n",
    "fig2 = plt.figure(2)\n",
    "fig2.subplots_adjust(hspace=0.5, wspace=1.2)\n",
    "\n",
    "plt.subplot(1,2,1)\n",
    "plt.plot(t1, y1, color='k')\n",
    "plt.title(\"Train\")\n",
    "plt.ylabel('Amplitude')\n",
    "plt.xlabel('time(ms)')\n",
    "plt.ylim(-40000, 40000)\n",
    "\n",
    "\n",
    "plt.subplot(1,2,2)\n",
    "plt.plot(t2, y2[:, 0], color='k')\n",
    "plt.title(\"Tuba\")\n",
    "plt.ylabel('Amplitude')\n",
    "plt.xlabel('time(ms)')\n",
    "plt.ylim(-40000, 40000)"
   ]
  },
  {
   "cell_type": "markdown",
   "metadata": {},
   "source": [
    "### Discussion\n",
    "\n",
    "You can see the amplitudes of the two different sounds have different ranges. The tuba looks to have a bound of slightly less than 20,000. Whereas the train is bound slighly above 30,000. You can't directly see the sampling rate of the tuba and train here. The reason is because the sampling frequency is samples per second. One way you could figure out what the sampling frequency is, would be to check the time between two samples and take the reciprocal of that. However being that the train has a sampling rate 32,000 samples per second and the tuba has 109,708 samples per second the graphs would need to be magnified in much more extreme to determine that. For instance take the train graph on the left. It goes from 0 to about 2000ms. Which is roughly 2 seconds (slightly less in reality but for illustration) that means on the train graph there is about 64,000 samples so to test the sampling period to determine sample rate you would need to magnify really far in. So yes technically with this data you can determine the sampling rate, but we would need to use more advanced magnification, but with the current plots as is no you cannot determine sampling rate."
   ]
  },
  {
   "cell_type": "code",
   "execution_count": null,
   "metadata": {},
   "outputs": [],
   "source": []
  }
 ],
 "metadata": {
  "kernelspec": {
   "display_name": "Python 3",
   "language": "python",
   "name": "python3"
  },
  "language_info": {
   "codemirror_mode": {
    "name": "ipython",
    "version": 3
   },
   "file_extension": ".py",
   "mimetype": "text/x-python",
   "name": "python",
   "nbconvert_exporter": "python",
   "pygments_lexer": "ipython3",
   "version": "3.8.3"
  }
 },
 "nbformat": 4,
 "nbformat_minor": 4
}
